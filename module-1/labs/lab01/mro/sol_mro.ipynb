{
 "cells": [
  {
   "cell_type": "markdown",
   "metadata": {},
   "source": [
    "### Solution by Nikita Login, 161 group"
   ]
  },
  {
   "cell_type": "code",
   "execution_count": 1,
   "metadata": {},
   "outputs": [],
   "source": [
    "class A:\n",
    "    pass\n",
    "\n",
    "\n",
    "class B:\n",
    "    pass\n",
    "\n",
    "\n",
    "class C:\n",
    "    pass\n",
    "\n",
    "\n",
    "class D(A, B, C):\n",
    "    pass"
   ]
  },
  {
   "cell_type": "code",
   "execution_count": 2,
   "metadata": {},
   "outputs": [
    {
     "ename": "TypeError",
     "evalue": "Cannot create a consistent method resolution\norder (MRO) for bases B, C",
     "output_type": "error",
     "traceback": [
      "\u001b[0;31m---------------------------------------------------------------------------\u001b[0m",
      "\u001b[0;31mTypeError\u001b[0m                                 Traceback (most recent call last)",
      "\u001b[0;32m<ipython-input-2-b48da380681e>\u001b[0m in \u001b[0;36m<module>\u001b[0;34m()\u001b[0m\n\u001b[0;32m----> 1\u001b[0;31m \u001b[0;32mclass\u001b[0m \u001b[0mE\u001b[0m\u001b[0;34m(\u001b[0m\u001b[0mD\u001b[0m\u001b[0;34m,\u001b[0m \u001b[0mC\u001b[0m\u001b[0;34m,\u001b[0m \u001b[0mB\u001b[0m\u001b[0;34m)\u001b[0m\u001b[0;34m:\u001b[0m\u001b[0;34m\u001b[0m\u001b[0m\n\u001b[0m\u001b[1;32m      2\u001b[0m     \u001b[0;32mpass\u001b[0m\u001b[0;34m\u001b[0m\u001b[0m\n",
      "\u001b[0;31mTypeError\u001b[0m: Cannot create a consistent method resolution\norder (MRO) for bases B, C"
     ]
    }
   ],
   "source": [
    "class E(D, C, B):\n",
    "    pass"
   ]
  },
  {
   "cell_type": "markdown",
   "metadata": {},
   "source": [
    "Ура, теперь осталось только распарсить!"
   ]
  },
  {
   "cell_type": "markdown",
   "metadata": {},
   "source": [
    "Ссылка на статью на Хабре: https://habr.com/post/62203/"
   ]
  },
  {
   "cell_type": "markdown",
   "metadata": {},
   "source": [
    "Для упрощения не будем рассматривать базовый для всех объектов класс object:"
   ]
  },
  {
   "cell_type": "markdown",
   "metadata": {},
   "source": [
    "1. L(E) = [E] + merge(L(D), L(C), L(B), [D, C, B])"
   ]
  },
  {
   "cell_type": "markdown",
   "metadata": {},
   "source": [
    "2. L(D) = [D] + merge(L(A), L(B), L(C), [A, B, C])"
   ]
  },
  {
   "cell_type": "markdown",
   "metadata": {},
   "source": [
    "3. L(C) = [C, object]"
   ]
  },
  {
   "cell_type": "markdown",
   "metadata": {},
   "source": [
    "4. L(B) = [B, object]"
   ]
  },
  {
   "cell_type": "markdown",
   "metadata": {},
   "source": [
    "5. L(A) = [A, object]"
   ]
  },
  {
   "cell_type": "markdown",
   "metadata": {},
   "source": [
    "6. L(D) = [D] + [[A, object], [B, object], [C, object], [A,B,C]] = [D, A, B, C, object]"
   ]
  },
  {
   "cell_type": "markdown",
   "metadata": {},
   "source": [
    "L(E) = E + merge([D, A, B, C, object], [C, object], [B, object], [D, C, B])"
   ]
  },
  {
   "cell_type": "markdown",
   "metadata": {},
   "source": [
    "<p>Сначала в список линеаризации добавляется E.</p>\n",
    "<p>Затем в список линеаризации добавляется D, так как он не находится нигде на месте, отличном от нулевого, остаётся структура ([A, B, C, object], [C, object], [B, object], [C, B]).</p>\n",
    "<p>Затем точно также туда добавляется класс А, остаётся ([B, C, object], [C, object], [B, object], [C, B]).</p>\n",
    "<p>Класс B нельзя просто так добавить в список линеаризации, т.к. он на ненулевом месте в [C,B], переходим ко второму списку.</p>\n",
    "<p>Класс С (нулевой в списке [C, object]) нельзя просто добавить в список линеаризации, т.к. он на ненулевом месте в [B, C, object] -> Линеаризация неразрешима. </p>"
   ]
  }
 ],
 "metadata": {
  "kernelspec": {
   "display_name": "Python 3",
   "language": "python",
   "name": "python3"
  },
  "language_info": {
   "codemirror_mode": {
    "name": "ipython",
    "version": 3
   },
   "file_extension": ".py",
   "mimetype": "text/x-python",
   "name": "python",
   "nbconvert_exporter": "python",
   "pygments_lexer": "ipython3",
   "version": "3.6.5"
  }
 },
 "nbformat": 4,
 "nbformat_minor": 2
}
